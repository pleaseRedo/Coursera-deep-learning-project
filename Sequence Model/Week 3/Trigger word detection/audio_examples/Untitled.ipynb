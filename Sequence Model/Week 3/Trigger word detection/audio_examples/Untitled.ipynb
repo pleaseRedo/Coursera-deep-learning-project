{
 "cells": [
  {
   "cell_type": "code",
   "execution_count": 1,
   "metadata": {},
   "outputs": [],
   "source": [
    "from pocketsphinx import Pocketsphinx\n",
    "from pocketsphinx import Pocketsphinx, get_model_path, get_data_path\n",
    "import os"
   ]
  },
  {
   "cell_type": "code",
   "execution_count": 2,
   "metadata": {},
   "outputs": [],
   "source": [
    "model_path = get_model_path()\n",
    "data_path = get_data_path()\n"
   ]
  },
  {
   "cell_type": "code",
   "execution_count": 11,
   "metadata": {},
   "outputs": [
    {
     "ename": "RuntimeError",
     "evalue": "new_Decoder returned -1",
     "output_type": "error",
     "traceback": [
      "\u001b[1;31m---------------------------------------------------------------------------\u001b[0m",
      "\u001b[1;31mRuntimeError\u001b[0m                              Traceback (most recent call last)",
      "\u001b[1;32m<ipython-input-11-a985599ec89d>\u001b[0m in \u001b[0;36m<module>\u001b[1;34m\u001b[0m\n\u001b[0;32m     17\u001b[0m \u001b[1;33m\u001b[0m\u001b[0m\n\u001b[0;32m     18\u001b[0m \u001b[1;31m# Decode streaming data.\u001b[0m\u001b[1;33m\u001b[0m\u001b[1;33m\u001b[0m\u001b[1;33m\u001b[0m\u001b[0m\n\u001b[1;32m---> 19\u001b[1;33m \u001b[0mdecoder\u001b[0m \u001b[1;33m=\u001b[0m \u001b[0mDecoder\u001b[0m\u001b[1;33m(\u001b[0m\u001b[0mconfig\u001b[0m\u001b[1;33m)\u001b[0m\u001b[1;33m\u001b[0m\u001b[1;33m\u001b[0m\u001b[0m\n\u001b[0m\u001b[0;32m     20\u001b[0m \u001b[1;33m\u001b[0m\u001b[0m\n\u001b[0;32m     21\u001b[0m \u001b[0mprint\u001b[0m \u001b[1;33m(\u001b[0m\u001b[1;34m\"Pronunciation for word 'hello' is \"\u001b[0m\u001b[1;33m,\u001b[0m \u001b[0mdecoder\u001b[0m\u001b[1;33m.\u001b[0m\u001b[0mlookup_word\u001b[0m\u001b[1;33m(\u001b[0m\u001b[1;34m\"hello\"\u001b[0m\u001b[1;33m)\u001b[0m\u001b[1;33m)\u001b[0m\u001b[1;33m\u001b[0m\u001b[1;33m\u001b[0m\u001b[0m\n",
      "\u001b[1;32m~\\Anaconda3\\envs\\tensorflow\\lib\\site-packages\\pocketsphinx\\pocketsphinx.py\u001b[0m in \u001b[0;36m__init__\u001b[1;34m(self, *args)\u001b[0m\n\u001b[0;32m    271\u001b[0m         \u001b[0m__init__\u001b[0m\u001b[1;33m(\u001b[0m\u001b[0mDecoder\u001b[0m \u001b[0mself\u001b[0m\u001b[1;33m,\u001b[0m \u001b[0mConfig\u001b[0m \u001b[0mconfig\u001b[0m\u001b[1;33m)\u001b[0m \u001b[1;33m->\u001b[0m \u001b[0mDecoder\u001b[0m\u001b[1;33m\u001b[0m\u001b[1;33m\u001b[0m\u001b[0m\n\u001b[0;32m    272\u001b[0m         \"\"\"\n\u001b[1;32m--> 273\u001b[1;33m         \u001b[0mthis\u001b[0m \u001b[1;33m=\u001b[0m \u001b[0m_pocketsphinx\u001b[0m\u001b[1;33m.\u001b[0m\u001b[0mnew_Decoder\u001b[0m\u001b[1;33m(\u001b[0m\u001b[1;33m*\u001b[0m\u001b[0margs\u001b[0m\u001b[1;33m)\u001b[0m\u001b[1;33m\u001b[0m\u001b[1;33m\u001b[0m\u001b[0m\n\u001b[0m\u001b[0;32m    274\u001b[0m         \u001b[1;32mtry\u001b[0m\u001b[1;33m:\u001b[0m\u001b[1;33m\u001b[0m\u001b[1;33m\u001b[0m\u001b[0m\n\u001b[0;32m    275\u001b[0m             \u001b[0mself\u001b[0m\u001b[1;33m.\u001b[0m\u001b[0mthis\u001b[0m\u001b[1;33m.\u001b[0m\u001b[0mappend\u001b[0m\u001b[1;33m(\u001b[0m\u001b[0mthis\u001b[0m\u001b[1;33m)\u001b[0m\u001b[1;33m\u001b[0m\u001b[1;33m\u001b[0m\u001b[0m\n",
      "\u001b[1;31mRuntimeError\u001b[0m: new_Decoder returned -1"
     ]
    }
   ],
   "source": [
    "#!/usr/bin/python\n",
    "\n",
    "from os import environ, path\n",
    "\n",
    "\n",
    "from pocketsphinx import *\n",
    "from sphinxbase import *\n",
    "\n",
    "MODELDIR = \"../../../model\"\n",
    "DATADIR = \"../../../test/data\"\n",
    "\n",
    "# Create a decoder with certain model\n",
    "config = Decoder.default_config()\n",
    "config.set_string('-hmm', path.join(MODELDIR, 'en-us/en-us'))\n",
    "config.set_string('-lm', path.join(MODELDIR, 'en-us/en-us.lm.bin'))\n",
    "config.set_string('-dict', path.join(MODELDIR, 'en-us/cmudict-en-us.dict'))\n",
    "\n",
    "# Decode streaming data.\n",
    "decoder = Decoder(config)\n",
    "\n",
    "print (\"Pronunciation for word 'hello' is \", decoder.lookup_word(\"hello\"))\n",
    "print (\"Pronunciation for word 'abcdf' is \", decoder.lookup_word(\"abcdf\"))\n",
    "\n",
    "decoder.start_utt()\n",
    "stream = open(path.join(DATADIR, 'goforward.raw'), 'rb')\n",
    "while True:\n",
    "  buf = stream.read(1024)\n",
    "  if buf:\n",
    "    decoder.process_raw(buf, False, False)\n",
    "  else:\n",
    "    break\n",
    "decoder.end_utt()\n",
    "\n",
    "hypothesis = decoder.hyp()\n",
    "logmath = decoder.get_logmath()\n",
    "print ('Best hypothesis: ', hypothesis.hypstr, \" model score: \", hypothesis.best_score, \" confidence: \", logmath.exp(hypothesis.prob))\n",
    "\n",
    "print ('Best hypothesis segments: ', [seg.word for seg in decoder.seg()])\n",
    "\n",
    "# Access N best decodings.\n",
    "print ('Best 10 hypothesis: ')\n",
    "for best, i in zip(decoder.nbest(), range(10)):\n",
    "    print (best.hypstr, best.score)\n",
    "\n",
    "stream = open(path.join(DATADIR, 'goforward.mfc'), 'rb')\n",
    "stream.read(4)\n",
    "buf = stream.read(13780)\n",
    "decoder.start_utt()\n",
    "decoder.process_cep(buf, False, True)\n",
    "decoder.end_utt()\n",
    "hypothesis = decoder.hyp()\n",
    "print ('Best hypothesis: ', hypothesis.hypstr, \" model score: \", hypothesis.best_score, \" confidence: \", hypothesis.prob)"
   ]
  },
  {
   "cell_type": "code",
   "execution_count": null,
   "metadata": {},
   "outputs": [],
   "source": []
  }
 ],
 "metadata": {
  "kernelspec": {
   "display_name": "Python 3",
   "language": "python",
   "name": "python3"
  },
  "language_info": {
   "codemirror_mode": {
    "name": "ipython",
    "version": 3
   },
   "file_extension": ".py",
   "mimetype": "text/x-python",
   "name": "python",
   "nbconvert_exporter": "python",
   "pygments_lexer": "ipython3",
   "version": "3.7.3"
  }
 },
 "nbformat": 4,
 "nbformat_minor": 2
}
